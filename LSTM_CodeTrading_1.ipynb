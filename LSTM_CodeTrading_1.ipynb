{
  "cells": [
    {
      "cell_type": "markdown",
      "metadata": {
        "id": "view-in-github",
        "colab_type": "text"
      },
      "source": [
        "<a href=\"https://colab.research.google.com/github/SAAD-Nahri/Examen_Master_MAAIS_SAAD_NAHRI/blob/main/LSTM_CodeTrading_1.ipynb\" target=\"_parent\"><img src=\"https://colab.research.google.com/assets/colab-badge.svg\" alt=\"Open In Colab\"/></a>"
      ]
    },
    {
      "cell_type": "code",
      "execution_count": 7,
      "id": "b29811c3",
      "metadata": {
        "id": "b29811c3"
      },
      "outputs": [],
      "source": [
        "import pandas as pd\n",
        "import numpy as np\n",
        "import math\n",
        "import datetime as dt\n",
        "from sklearn.metrics import mean_squared_error, mean_absolute_error, explained_variance_score, r2_score\n",
        "from sklearn.metrics import mean_poisson_deviance, mean_gamma_deviance, accuracy_score\n",
        "from sklearn.preprocessing import MinMaxScaler\n",
        "\n",
        "import tensorflow as tf\n",
        "from tensorflow.keras.models import Sequential\n",
        "from tensorflow.keras.layers import Dense\n",
        "from tensorflow.keras.layers import LSTM, GRU\n",
        "\n",
        "from itertools import cycle\n",
        "\n",
        "# ! pip install plotly\n",
        "import plotly.graph_objects as go\n",
        "import plotly.express as px\n",
        "from plotly.subplots import make_subplots"
      ]
    },
    {
      "cell_type": "code",
      "execution_count": 8,
      "id": "08324ede",
      "metadata": {
        "colab": {
          "base_uri": "https://localhost:8080/"
        },
        "id": "08324ede",
        "outputId": "371ce070-db88-4323-f9ca-e67b739e1ee5"
      },
      "outputs": [
        {
          "output_type": "stream",
          "name": "stderr",
          "text": [
            "\r[*********************100%%**********************]  1 of 1 completed\n"
          ]
        }
      ],
      "source": [
        "import yfinance as yf\n",
        "\n",
        "# Download Boeing's stock data\n",
        "#sp500_data = yf.download('BA', start='2010-01-01', end='2024-01-01')\n",
        "\n",
        "sp500_data = yf.download('^GSPC', start='2010-01-01', end='2024-01-01')\n"
      ]
    },
    {
      "cell_type": "code",
      "source": [
        "\n",
        "log_returns = np.log(sp500_data['Close'] / sp500_data['Close'].shift(1)).dropna()\n",
        "from scipy.signal import savgol_filter\n",
        "denoised_log_returns = savgol_filter(log_returns, window_length=11, polyorder=2)\n",
        "scaler=MinMaxScaler(feature_range=(0,1))\n",
        "closedf=scaler.fit_transform(np.array(denoised_log_returns).reshape(-1,1))\n",
        "print(closedf.shape)"
      ],
      "metadata": {
        "colab": {
          "base_uri": "https://localhost:8080/"
        },
        "id": "bqgbFpiVs47k",
        "outputId": "b5b64af4-8813-40c7-f553-62ce2efac93e"
      },
      "id": "bqgbFpiVs47k",
      "execution_count": 11,
      "outputs": [
        {
          "output_type": "stream",
          "name": "stdout",
          "text": [
            "(3521, 1)\n"
          ]
        }
      ]
    },
    {
      "cell_type": "code",
      "source": [
        "training_size=int(len(closedf)*0.70)\n",
        "test_size=len(closedf)-training_size\n",
        "train_data,test_data=closedf[0:training_size,:],closedf[training_size:len(closedf),:1]\n",
        "print(\"train_data: \", train_data.shape)\n",
        "print(\"test_data: \", test_data.shape)\\\n",
        "# convert an array of values into a dataset matrix\n",
        "def create_dataset(dataset, time_step=1):\n",
        "    dataX, dataY = [], []\n",
        "    for i in range(len(dataset)-time_step-1):\n",
        "        a = dataset[i:(i+time_step), 0]   ###i=0, 0,1,2,3-----99   100\n",
        "        dataX.append(a)\n",
        "        dataY.append(dataset[i + time_step, 0])\n",
        "    return np.array(dataX), np.array(dataY)\n",
        "# reshape into X=t,t+1,t+2,t+3 and Y=t+4\n",
        "time_step = 15\n",
        "X_train, y_train = create_dataset(train_data, time_step)\n",
        "X_test, y_test = create_dataset(test_data, time_step)\n",
        "\n",
        "print(\"X_train: \", X_train.shape)\n",
        "print(\"y_train: \", y_train.shape)\n",
        "print(\"X_test: \", X_test.shape)\n",
        "print(\"y_test\", y_test.shape)"
      ],
      "metadata": {
        "colab": {
          "base_uri": "https://localhost:8080/"
        },
        "id": "IJZfMYf-2oVb",
        "outputId": "2afeab8c-ceac-42a1-8bf6-39cf5782dd30"
      },
      "id": "IJZfMYf-2oVb",
      "execution_count": 28,
      "outputs": [
        {
          "output_type": "stream",
          "name": "stdout",
          "text": [
            "train_data:  (2464, 1)\n",
            "test_data:  (1057, 1)\n",
            "X_train:  (2448, 15)\n",
            "y_train:  (2448,)\n",
            "X_test:  (1041, 15)\n",
            "y_test (1041,)\n"
          ]
        }
      ]
    },
    {
      "cell_type": "code",
      "source": [
        "import numpy as np\n",
        "\n",
        "class LinearRegression:\n",
        "    def __init__(self, lambda_reg=1e-4, nbPointsToIgnore=100):\n",
        "        self.lambda_reg = lambda_reg\n",
        "        self.nbPointsToIgnore = nbPointsToIgnore\n",
        "        self.Wout = None  # To store the trained output weight matrix\n",
        "\n",
        "    def train(self, u, y):\n",
        "        u = u.T\n",
        "        S = np.vstack([np.ones((1, u.shape[1])), u[:,:]])\n",
        "        D = y[:]\n",
        "        I = np.eye(S.shape[0])\n",
        "        self.Wout = D @ S.T @ np.linalg.pinv(S @ S.T + self.lambda_reg * I)\n",
        "\n",
        "    def predict(self, u_test):\n",
        "        u_test = u_test.T\n",
        "        if self.Wout is None:\n",
        "            raise ValueError(\"Model has not been trained yet.\")\n",
        "        S_test = np.vstack([np.ones((1, u_test.shape[1])), u_test])\n",
        "        print(S_test.shape)\n",
        "        y_pred = self.Wout @ S_test\n",
        "        return y_pred\n",
        "\n"
      ],
      "metadata": {
        "id": "-tx3FNk74seb"
      },
      "id": "-tx3FNk74seb",
      "execution_count": 24,
      "outputs": []
    },
    {
      "cell_type": "code",
      "source": [
        "model = LinearRegression()\n",
        "\n",
        "# Train the model\n",
        "model.train(X_train, y_train)\n",
        "train_predict=model.predict(X_train)\n",
        "test_predict=model.predict(X_test)\n",
        "\n",
        "\n",
        "train_predict = scaler.inverse_transform(train_predict.reshape(-1,1))\n",
        "test_predict = scaler.inverse_transform(test_predict.reshape(-1,1))\n",
        "original_ytrain = scaler.inverse_transform(y_train.reshape(-1,1))\n",
        "original_ytest = scaler.inverse_transform(y_test.reshape(-1,1))\n",
        "\n",
        "print(\"Train data RMSE: \", math.sqrt(mean_squared_error(original_ytrain,train_predict)))\n",
        "print(\"Train data MSE: \", mean_squared_error(original_ytrain,train_predict))\n",
        "print(\"Test data MAE: \", mean_absolute_error(original_ytrain,train_predict))\n",
        "print(\"-------------------------------------------------------------------------------------\")\n",
        "print(\"Test data RMSE: \", math.sqrt(mean_squared_error(original_ytest,test_predict)))\n",
        "print(\"Test data MSE: \", mean_squared_error(original_ytest,test_predict))\n",
        "print(\"Test data MAE: \", mean_absolute_error(original_ytest,test_predict))"
      ],
      "metadata": {
        "colab": {
          "base_uri": "https://localhost:8080/"
        },
        "id": "mlmT-_5o5rxl",
        "outputId": "b383a031-3510-4ac2-8928-c7ce03ba5a89"
      },
      "id": "mlmT-_5o5rxl",
      "execution_count": 26,
      "outputs": [
        {
          "output_type": "stream",
          "name": "stdout",
          "text": [
            "(16, 2448)\n",
            "(16, 1041)\n",
            "Train data RMSE:  0.001815731031690747\n",
            "Train data MSE:  3.296879179444744e-06\n",
            "Test data MAE:  0.0013020796497533842\n",
            "-------------------------------------------------------------------------------------\n",
            "Test data RMSE:  0.0027851475360665774\n",
            "Test data MSE:  7.757046797657728e-06\n",
            "Test data MAE:  0.0018323634516613392\n"
          ]
        }
      ]
    },
    {
      "cell_type": "code",
      "source": [
        "X_train1 =X_train.reshape(X_train.shape[0],X_train.shape[1] , 1)\n",
        "X_test1 = X_test.reshape(X_test.shape[0],X_test.shape[1] , 1)\n",
        "\n",
        "print(\"X_train: \", X_train1.shape)\n",
        "print(\"X_test: \", X_test1.shape)"
      ],
      "metadata": {
        "colab": {
          "base_uri": "https://localhost:8080/"
        },
        "id": "8F_Q7cYa3F_Q",
        "outputId": "cc6937ac-ed93-421c-b8ae-c02e392ddc99"
      },
      "id": "8F_Q7cYa3F_Q",
      "execution_count": 17,
      "outputs": [
        {
          "output_type": "stream",
          "name": "stdout",
          "text": [
            "X_train:  (2448, 15, 1)\n",
            "X_test:  (1041, 15, 1)\n"
          ]
        }
      ]
    },
    {
      "cell_type": "code",
      "source": [
        "tf.keras.backend.clear_session()\n",
        "model=Sequential()\n",
        "model.add(LSTM(32,return_sequences=True,input_shape=(time_step,1)))\n",
        "model.add(LSTM(32,return_sequences=True))\n",
        "model.add(LSTM(32))\n",
        "model.add(Dense(1))\n",
        "model.compile(loss='mean_squared_error',optimizer='adam')"
      ],
      "metadata": {
        "id": "isKfYGwS26SC"
      },
      "id": "isKfYGwS26SC",
      "execution_count": 18,
      "outputs": []
    },
    {
      "cell_type": "code",
      "source": [
        "model.fit(X_train1,y_train1,validation_data=(X_test,y_test),epochs=20,batch_size=5,verbose=1)"
      ],
      "metadata": {
        "colab": {
          "base_uri": "https://localhost:8080/"
        },
        "id": "XFtt4Ind2-64",
        "outputId": "4e2d9acd-ac52-4e99-ea33-79e1e1786654"
      },
      "id": "XFtt4Ind2-64",
      "execution_count": 19,
      "outputs": [
        {
          "output_type": "stream",
          "name": "stdout",
          "text": [
            "Epoch 1/20\n",
            "490/490 [==============================] - 20s 27ms/step - loss: 0.0080 - val_loss: 0.0085\n",
            "Epoch 2/20\n",
            "490/490 [==============================] - 10s 21ms/step - loss: 0.0044 - val_loss: 0.0086\n",
            "Epoch 3/20\n",
            "490/490 [==============================] - 10s 21ms/step - loss: 0.0042 - val_loss: 0.0078\n",
            "Epoch 4/20\n",
            "490/490 [==============================] - 10s 21ms/step - loss: 0.0039 - val_loss: 0.0065\n",
            "Epoch 5/20\n",
            "490/490 [==============================] - 11s 23ms/step - loss: 0.0024 - val_loss: 0.0031\n",
            "Epoch 6/20\n",
            "490/490 [==============================] - 11s 23ms/step - loss: 0.0014 - val_loss: 0.0022\n",
            "Epoch 7/20\n",
            "490/490 [==============================] - 10s 21ms/step - loss: 0.0012 - val_loss: 0.0022\n",
            "Epoch 8/20\n",
            "490/490 [==============================] - 10s 20ms/step - loss: 0.0012 - val_loss: 0.0024\n",
            "Epoch 9/20\n",
            "490/490 [==============================] - 10s 21ms/step - loss: 0.0011 - val_loss: 0.0024\n",
            "Epoch 10/20\n",
            "490/490 [==============================] - 10s 21ms/step - loss: 0.0012 - val_loss: 0.0024\n",
            "Epoch 11/20\n",
            "490/490 [==============================] - 11s 22ms/step - loss: 0.0011 - val_loss: 0.0021\n",
            "Epoch 12/20\n",
            "490/490 [==============================] - 10s 21ms/step - loss: 0.0011 - val_loss: 0.0022\n",
            "Epoch 13/20\n",
            "490/490 [==============================] - 10s 20ms/step - loss: 0.0011 - val_loss: 0.0023\n",
            "Epoch 14/20\n",
            "490/490 [==============================] - 10s 21ms/step - loss: 0.0012 - val_loss: 0.0022\n",
            "Epoch 15/20\n",
            "490/490 [==============================] - 11s 22ms/step - loss: 0.0011 - val_loss: 0.0023\n",
            "Epoch 16/20\n",
            "490/490 [==============================] - 10s 21ms/step - loss: 0.0011 - val_loss: 0.0023\n",
            "Epoch 17/20\n",
            "490/490 [==============================] - 10s 21ms/step - loss: 0.0011 - val_loss: 0.0023\n",
            "Epoch 18/20\n",
            "490/490 [==============================] - 9s 19ms/step - loss: 0.0011 - val_loss: 0.0022\n",
            "Epoch 19/20\n",
            "490/490 [==============================] - 11s 22ms/step - loss: 0.0011 - val_loss: 0.0035\n",
            "Epoch 20/20\n",
            "490/490 [==============================] - 12s 24ms/step - loss: 0.0011 - val_loss: 0.0023\n"
          ]
        },
        {
          "output_type": "execute_result",
          "data": {
            "text/plain": [
              "<keras.src.callbacks.History at 0x7fad4f515ae0>"
            ]
          },
          "metadata": {},
          "execution_count": 19
        }
      ]
    },
    {
      "cell_type": "code",
      "source": [
        "train_predict=model.predict(X_train)\n",
        "test_predict=model.predict(X_test)\n",
        "train_predict.shape, test_predict.shape"
      ],
      "metadata": {
        "colab": {
          "base_uri": "https://localhost:8080/"
        },
        "id": "WmZ_MCSl4VdL",
        "outputId": "1a1a03c4-687c-46a5-f817-d81f1d082051"
      },
      "id": "WmZ_MCSl4VdL",
      "execution_count": 20,
      "outputs": [
        {
          "output_type": "stream",
          "name": "stdout",
          "text": [
            "77/77 [==============================] - 3s 9ms/step\n",
            "33/33 [==============================] - 0s 8ms/step\n"
          ]
        },
        {
          "output_type": "execute_result",
          "data": {
            "text/plain": [
              "((2448, 1), (1041, 1))"
            ]
          },
          "metadata": {},
          "execution_count": 20
        }
      ]
    },
    {
      "cell_type": "code",
      "source": [
        "train_predict = scaler.inverse_transform(train_predict)\n",
        "test_predict = scaler.inverse_transform(test_predict)\n",
        "original_ytrain = scaler.inverse_transform(y_train.reshape(-1,1))\n",
        "original_ytest = scaler.inverse_transform(y_test.reshape(-1,1))\n",
        "\n",
        "print(\"Train data RMSE: \", math.sqrt(mean_squared_error(original_ytrain,train_predict)))\n",
        "print(\"Train data MSE: \", mean_squared_error(original_ytrain,train_predict))\n",
        "print(\"Test data MAE: \", mean_absolute_error(original_ytrain,train_predict))\n",
        "print(\"-------------------------------------------------------------------------------------\")\n",
        "print(\"Test data RMSE: \", math.sqrt(mean_squared_error(original_ytest,test_predict)))\n",
        "print(\"Test data MSE: \", mean_squared_error(original_ytest,test_predict))\n",
        "print(\"Test data MAE: \", mean_absolute_error(original_ytest,test_predict))"
      ],
      "metadata": {
        "colab": {
          "base_uri": "https://localhost:8080/"
        },
        "id": "T8R2Jt6F4ccU",
        "outputId": "f7a0bda6-e539-409f-c98c-c7a8df3817c3"
      },
      "id": "T8R2Jt6F4ccU",
      "execution_count": 22,
      "outputs": [
        {
          "output_type": "stream",
          "name": "stdout",
          "text": [
            "Train data RMSE:  0.036982062701535375\n",
            "Train data MSE:  0.001367672961660294\n",
            "Test data MAE:  0.036781308081771345\n",
            "-------------------------------------------------------------------------------------\n",
            "Test data RMSE:  0.037206731689606025\n",
            "Test data MSE:  0.001384340883022333\n",
            "Test data MAE:  0.036788168927878784\n"
          ]
        }
      ]
    },
    {
      "cell_type": "code",
      "source": [
        "\n",
        "import numpy as np\n",
        "\n",
        "\n",
        "\n",
        "class RRBFN:\n",
        "    def __init__(self, input_size, reservoir_size, output_size, alpha, beta, lambda_reg=1e-8):\n",
        "        self.Nu = input_size\n",
        "        self.Nx = reservoir_size\n",
        "        self.Ny = output_size\n",
        "        self.alpha = alpha\n",
        "        self.beta = beta\n",
        "        self.lambda_reg = lambda_reg\n",
        "        self.Win = np.random.uniform(-1, 1, (self.Nx, self.Nu))\n",
        "        self.W = np.random.uniform(-1, 1, (self.Nx, self.Nx))\n",
        "        self.Wout = None\n",
        "        self.X_final None\n",
        "\n",
        "\n",
        "    def train(self, U, Y, ignore_initial=100):\n",
        "        U = U.T\n",
        "        nbDataPoints = U.shape[1]\n",
        "        X = np.zeros((self.Nx, nbDataPoints))\n",
        "        Z = np.zeros((1+self.Nu+self.Nx, nbDataPoints))\n",
        "        for i in range(1, nbDataPoints):\n",
        "            for j in range(1, self.Nx):\n",
        "                squared_norm_u = np.sum(((self.Win[j,:]).T - U[:, i]) ** 2)\n",
        "                squared_norm_x = np.sum(((self.W[j,:]).T - X[:, i-1]) ** 2)\n",
        "                X[j, i] = np.exp(-self.alpha * squared_norm_u - self.beta * squared_norm_x)\n",
        "            Z[:,i] = np.hstack([[1,], U[:,i], X[:,i]])\n",
        "        # Save the final state of X to be used in prediction\n",
        "        self.X_final = X[:, -1]\n",
        "        S = Z[:,:]\n",
        "        D = Y[:]\n",
        "        self.Wout = D @ S.T @ np.linalg.inv(S @ S.T + self.lambda_reg * np.eye(S.shape[0]))\n",
        "\n",
        "    def predict(self, U):\n",
        "        U = U.T\n",
        "        nbDataPoints = U.shape[1]\n",
        "        X = np.zeros((self.Nx, nbDataPoints))\n",
        "        Z = np.zeros((1 + self.Nu + self.Nx, nbDataPoints))\n",
        "        # Start with the last state of X from training\n",
        "        X[:, 0] = self.X_final\n",
        "        for i in range(1, nbDataPoints):\n",
        "            for j in range(1,self.Nx):\n",
        "                squared_norm_u = np.sum(((self.Win[j,:]).T - U[:, i]) ** 2)\n",
        "                squared_norm_x = np.sum(((self.W[j,:]).T - X[:, i-1]) ** 2)\n",
        "                X[j, i] = np.exp(-self.alpha * squared_norm_u - self.beta * squared_norm_x)\n",
        "            Z[:,i] = np.hstack([1, U[:,i], X[:,i]])\n",
        "        return self.Wout @ Z\n"
      ],
      "metadata": {
        "id": "tVd3r-1V4lIB"
      },
      "id": "tVd3r-1V4lIB",
      "execution_count": 29,
      "outputs": []
    },
    {
      "cell_type": "code",
      "source": [
        "# Initialize model parameters\n",
        "input_size = 15  # Since we're using log returns directly\n",
        "reservoir_size = 100  # Example size, should be tuned\n",
        "output_size = 1  # Predicting one step ahead\n",
        "alpha = 0.2  # Example, should be tuned\n",
        "beta = 0.8  # Example, should be tuned\n",
        "model = RRBFN(input_size, reservoir_size, output_size, alpha, beta)\n",
        "\n",
        "# Train the model\n",
        "model.train(X_train, y_train)\n",
        "train_predict=model.predict(X_train)\n",
        "test_predict=model.predict(X_test)\n",
        "\n",
        "train_predict = scaler.inverse_transform(train_predict.reshape(-1,1))\n",
        "test_predict = scaler.inverse_transform(test_predict.reshape(-1,1))\n",
        "original_ytrain = scaler.inverse_transform(y_train.reshape(-1,1))\n",
        "original_ytest = scaler.inverse_transform(y_test.reshape(-1,1))\n",
        "\n",
        "print(\"Train data RMSE: \", math.sqrt(mean_squared_error(original_ytrain,train_predict)))\n",
        "print(\"Train data MSE: \", mean_squared_error(original_ytrain,train_predict))\n",
        "print(\"Test data MAE: \", mean_absolute_error(original_ytrain,train_predict))\n",
        "print(\"-------------------------------------------------------------------------------------\")\n",
        "print(\"Test data RMSE: \", math.sqrt(mean_squared_error(original_ytest,test_predict)))\n",
        "print(\"Test data MSE: \", mean_squared_error(original_ytest,test_predict))\n",
        "print(\"Test data MAE: \", mean_absolute_error(original_ytest,test_predict))"
      ],
      "metadata": {
        "colab": {
          "base_uri": "https://localhost:8080/"
        },
        "id": "az2PxSZD7rdX",
        "outputId": "0b757fb5-6499-4057-fbc5-29b427eacaf0"
      },
      "id": "az2PxSZD7rdX",
      "execution_count": 33,
      "outputs": [
        {
          "output_type": "stream",
          "name": "stdout",
          "text": [
            "Train data RMSE:  0.0019372958049638865\n",
            "Train data MSE:  3.753115035930673e-06\n",
            "Test data MAE:  0.001314418243832272\n",
            "-------------------------------------------------------------------------------------\n",
            "Test data RMSE:  0.0029995812116822727\n",
            "Test data MSE:  8.997487445477291e-06\n",
            "Test data MAE:  0.001865975808578071\n"
          ]
        }
      ]
    }
  ],
  "metadata": {
    "kernelspec": {
      "display_name": "Python 3 (ipykernel)",
      "language": "python",
      "name": "python3"
    },
    "language_info": {
      "codemirror_mode": {
        "name": "ipython",
        "version": 3
      },
      "file_extension": ".py",
      "mimetype": "text/x-python",
      "name": "python",
      "nbconvert_exporter": "python",
      "pygments_lexer": "ipython3",
      "version": "3.7.3"
    },
    "colab": {
      "provenance": [],
      "include_colab_link": true
    }
  },
  "nbformat": 4,
  "nbformat_minor": 5
}